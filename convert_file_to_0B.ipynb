{
 "cells": [
  {
   "cell_type": "markdown",
   "metadata": {
    "colab_type": "text",
    "id": "WOw8yMd1VlnD"
   },
   "source": [
    "# Generating file taking 0B disk space"
   ]
  },
  {
   "cell_type": "markdown",
   "metadata": {
    "colab_type": "text",
    "id": "NvUGC8QQV6bV"
   },
   "source": [
    "## Import needed libraries"
   ]
  },
  {
   "cell_type": "code",
   "execution_count": 22,
   "metadata": {
    "colab": {},
    "colab_type": "code",
    "id": "wfFEXZC0WS-V"
   },
   "outputs": [],
   "source": [
    "import os\n",
    "import base64\n",
    "import numpy as np"
   ]
  },
  {
   "cell_type": "markdown",
   "metadata": {},
   "source": [
    "## Make sure you are in correct directory"
   ]
  },
  {
   "cell_type": "code",
   "execution_count": null,
   "metadata": {},
   "outputs": [],
   "source": [
    "path0 = os.getcwd()\n",
    "print(path0)"
   ]
  },
  {
   "cell_type": "markdown",
   "metadata": {
    "colab_type": "text",
    "id": "fhYaZ-ENV_c5"
   },
   "source": [
    "## Convert file to base64"
   ]
  },
  {
   "cell_type": "code",
   "execution_count": 24,
   "metadata": {
    "colab": {},
    "colab_type": "code",
    "id": "aqHTg9bxWT_u"
   },
   "outputs": [],
   "source": [
    "filename = 'cat.mov'\n",
    "original_extension = ( filename[ filename.rfind(\".\"): ] )\n",
    "base64_file = repr( base64.urlsafe_b64encode( open(filename, 'rb').read() ) )[2:-1]\n"
   ]
  },
  {
   "cell_type": "markdown",
   "metadata": {
    "colab_type": "text",
    "id": "3abSxRqvWEIB"
   },
   "source": [
    "## Making folder structure"
   ]
  },
  {
   "cell_type": "markdown",
   "metadata": {},
   "source": [
    "### As we know - operating system claims that size of folder is 0, therefore I'm going to place the base64_file content into names of folders"
   ]
  },
  {
   "cell_type": "markdown",
   "metadata": {},
   "source": [
    "#### Let's make list of 200-char-long segments of base64_file "
   ]
  },
  {
   "cell_type": "code",
   "execution_count": 25,
   "metadata": {
    "colab": {},
    "colab_type": "code",
    "id": "hm48sif-WWsh"
   },
   "outputs": [],
   "source": [
    "content = []\n",
    "i=0\n",
    "while i <= len(base64_file):\n",
    "    content.append( base64_file[ i : i+200 ] )\n",
    "    i += 200\n",
    "content = [ x for x in content if x ]"
   ]
  },
  {
   "cell_type": "markdown",
   "metadata": {},
   "source": [
    "#### We are going to have 4 \"levels\" in our folder structure. First level will contain n folders. Each of these n folders will contain n subfolders. Each of these n subfolders will contain n subsubfolders, etc.\n",
    "#### Let's calculate n in terms of base64_file length"
   ]
  },
  {
   "cell_type": "code",
   "execution_count": 26,
   "metadata": {},
   "outputs": [],
   "source": [
    "n = int( np.power(len(content), 1/4 ) ) + 1"
   ]
  },
  {
   "cell_type": "markdown",
   "metadata": {},
   "source": [
    "#### Let's make some folders!"
   ]
  },
  {
   "cell_type": "code",
   "execution_count": 27,
   "metadata": {},
   "outputs": [],
   "source": [
    "path = os.getcwd()\n",
    "os.mkdir( os.getcwd() + f\"/generated_{filename[:filename.rfind('.')]}\" )\n",
    "os.chdir( os.getcwd() + f\"/generated_{filename[:filename.rfind('.')]}\" )        # change current working directory to the \"generated\" folder\n",
    "no = 0                                                                          # No. of currently made directories\n",
    "ln = len(str(n))\n",
    "\n",
    "is_job_done = False"
   ]
  },
  {
   "cell_type": "code",
   "execution_count": 28,
   "metadata": {},
   "outputs": [],
   "source": [
    "path1 = os.getcwd()\n",
    "for i in range(0, n):\n",
    "    os.mkdir( os.getcwd() + f\"/{str(i).zfill(ln)}\" )\n",
    "    os.chdir( os.getcwd() + f\"/{str(i).zfill(ln)}\" )\n",
    "    path2 = os.getcwd()\n",
    "\n",
    "    for j in range(0, n):\n",
    "        os.mkdir( os.getcwd() + f\"/{str(j).zfill(ln)}\" )\n",
    "        os.chdir( os.getcwd() + f\"/{str(j).zfill(ln)}\" )\n",
    "        path3 = os.getcwd()\n",
    "\n",
    "        for k in range(0, n):       \n",
    "            os.mkdir( os.getcwd() + f\"/{str(k).zfill(ln)}\" )\n",
    "            os.chdir( os.getcwd() + f\"/{str(k).zfill(ln)}\" ) \n",
    "\n",
    "            for l in range(0, n):\n",
    "                if no < len(content):\n",
    "                    os.mkdir( f\"{[str(no).zfill(len(str(len(content))))]}\" + f\"{content[no]}\" )\n",
    "                    no += 1\n",
    "                else: \n",
    "                    is_job_done = True\n",
    "                    os.chdir( path3 )\n",
    "                    break\n",
    "                if l == n-1:\n",
    "                    os.chdir( path3 )\n",
    "\n",
    "            if is_job_done:\n",
    "                break\n",
    "            if k == n-1:\n",
    "                os.chdir( path2 )\n",
    "\n",
    "        if is_job_done:\n",
    "                break\n",
    "        if j == n-1:\n",
    "                os.chdir( path1 )\n",
    "                \n",
    "    if is_job_done:\n",
    "                break\n",
    "    if i == n-1:\n",
    "        os.chdir( path )\n",
    "\n",
    "os.chdir( path1 )\n",
    "os.mkdir(original_extension)\n",
    "os.chdir( path )"
   ]
  }
 ],
 "metadata": {
  "colab": {
   "authorship_tag": "ABX9TyOD2/gZgY69JdiiGJVNfu7s",
   "collapsed_sections": [],
   "name": "data_preprocessing_template.ipynb",
   "provenance": [],
   "toc_visible": true
  },
  "kernelspec": {
   "display_name": "Python 3 (ipykernel)",
   "language": "python",
   "name": "python3"
  },
  "language_info": {
   "codemirror_mode": {
    "name": "ipython",
    "version": 3
   },
   "file_extension": ".py",
   "mimetype": "text/x-python",
   "name": "python",
   "nbconvert_exporter": "python",
   "pygments_lexer": "ipython3",
   "version": "3.11.2"
  }
 },
 "nbformat": 4,
 "nbformat_minor": 4
}
