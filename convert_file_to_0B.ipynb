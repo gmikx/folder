{
 "cells": [
  {
   "cell_type": "markdown",
   "metadata": {
    "colab_type": "text",
    "id": "WOw8yMd1VlnD"
   },
   "source": [
    "# Generating file taking 0B disk space"
   ]
  },
  {
   "cell_type": "markdown",
   "metadata": {
    "colab_type": "text",
    "id": "NvUGC8QQV6bV"
   },
   "source": [
    "## Import needed libraries"
   ]
  },
  {
   "cell_type": "code",
   "execution_count": 1,
   "metadata": {
    "colab": {},
    "colab_type": "code",
    "id": "wfFEXZC0WS-V"
   },
   "outputs": [],
   "source": [
    "import os\n",
    "import base64\n",
    "import numpy as np"
   ]
  },
  {
   "cell_type": "markdown",
   "metadata": {},
   "source": [
    "## Get the right slash for your OS"
   ]
  },
  {
   "cell_type": "code",
   "execution_count": 2,
   "metadata": {},
   "outputs": [],
   "source": [
    "if os.name == 'nt':\n",
    "    slash = '\\\\' # Windows\n",
    "else:\n",
    "    slash = '/'  # Linux and Mac"
   ]
  },
  {
   "cell_type": "markdown",
   "metadata": {},
   "source": [
    "## Make sure you are in correct directory"
   ]
  },
  {
   "cell_type": "code",
   "execution_count": 3,
   "metadata": {},
   "outputs": [
    {
     "name": "stdout",
     "output_type": "stream",
     "text": [
      "/home/mikolaj/projects/python/folder\n"
     ]
    }
   ],
   "source": [
    "path0 = os.getcwd()\n",
    "print(path0)"
   ]
  },
  {
   "cell_type": "markdown",
   "metadata": {
    "colab_type": "text",
    "id": "fhYaZ-ENV_c5"
   },
   "source": [
    "## Convert file to base64"
   ]
  },
  {
   "cell_type": "code",
   "execution_count": 4,
   "metadata": {
    "colab": {},
    "colab_type": "code",
    "id": "aqHTg9bxWT_u"
   },
   "outputs": [],
   "source": [
    "filename = 'HomeSweetHome.pdf'\n",
    "original_extension = ( filename[ filename.rfind(\".\"): ] )\n",
    "base64_file = repr( base64.urlsafe_b64encode( open(filename, 'rb').read() ) )[2:-1]\n"
   ]
  },
  {
   "cell_type": "markdown",
   "metadata": {
    "colab_type": "text",
    "id": "3abSxRqvWEIB"
   },
   "source": [
    "## Making folder structure"
   ]
  },
  {
   "cell_type": "markdown",
   "metadata": {},
   "source": [
    "### As we know - operating system considers folder as 0 byte files, therefore I'm going to place the base64_file content into the names of folders"
   ]
  },
  {
   "cell_type": "markdown",
   "metadata": {},
   "source": [
    "#### Let's make list of 200-char-long segments of base64_file "
   ]
  },
  {
   "cell_type": "code",
   "execution_count": 11,
   "metadata": {
    "colab": {},
    "colab_type": "code",
    "id": "hm48sif-WWsh"
   },
   "outputs": [],
   "source": [
    "content = [ base64_file[i:i+200] for i in range(0, len(base64_file), 200) ]"
   ]
  },
  {
   "cell_type": "markdown",
   "metadata": {},
   "source": [
    "#### We are going to have 4 \"levels\" in our folder structure. First level will contain n folders. Each of these n folders will contain n subfolders. Each of these n subfolders will contain n subsubfolders, etc.\n",
    "#### Let's calculate n in terms of base64_file length"
   ]
  },
  {
   "cell_type": "code",
   "execution_count": 6,
   "metadata": {},
   "outputs": [],
   "source": [
    "n = int( np.power(len(content), 1/4 ) ) + 1"
   ]
  },
  {
   "cell_type": "markdown",
   "metadata": {},
   "source": [
    "#### Let's make some folders!"
   ]
  },
  {
   "cell_type": "code",
   "execution_count": 7,
   "metadata": {},
   "outputs": [],
   "source": [
    "def make_folder_and_open(name):\n",
    "    name = os.getcwd() + slash + name\n",
    "    if not os.path.exists(name):\n",
    "        os.mkdir(name)\n",
    "    os.chdir(name)"
   ]
  },
  {
   "cell_type": "code",
   "execution_count": 8,
   "metadata": {},
   "outputs": [],
   "source": [
    "path = os.getcwd()\n",
    "make_folder_and_open( f\"generated_{filename[:filename.rfind('.')]}\" )\n",
    "no = 0                                                                          # No. of currently made directories\n",
    "ln = len(str(n))\n",
    "\n",
    "is_job_done = False"
   ]
  },
  {
   "cell_type": "code",
   "execution_count": 9,
   "metadata": {},
   "outputs": [],
   "source": [
    "path1 = os.getcwd()\n",
    "os.mkdir(original_extension)\n",
    "for i in range(0, n):\n",
    "    make_folder_and_open( f\"{str(i).zfill(ln)}\" )\n",
    "    path2 = os.getcwd()\n",
    "\n",
    "    for j in range(0, n):\n",
    "        make_folder_and_open( f\"{str(j).zfill(ln)}\" )\n",
    "        path3 = os.getcwd()\n",
    "\n",
    "        for k in range(0, n):       \n",
    "            make_folder_and_open( f\"{str(k).zfill(ln)}\" )\n",
    "            for l in range(0, n):\n",
    "                if no < len(content):\n",
    "                    os.mkdir( f\"{[str(no).zfill(len(str(len(content))))]}\" + f\"{content[no]}\" )\n",
    "                    no += 1\n",
    "                else: \n",
    "                    is_job_done = True\n",
    "                    os.chdir( path3 )\n",
    "                    break\n",
    "                if l == n-1:\n",
    "                    os.chdir( path3 )\n",
    "\n",
    "            if is_job_done:\n",
    "                break\n",
    "            if k == n-1:\n",
    "                os.chdir( path2 )\n",
    "\n",
    "        if is_job_done:\n",
    "                break\n",
    "        if j == n-1:\n",
    "                os.chdir( path1 )\n",
    "                \n",
    "    if is_job_done:\n",
    "                break\n",
    "    if i == n-1:\n",
    "        os.chdir( path )\n",
    "\n",
    "os.chdir( path )\n"
   ]
  }
 ],
 "metadata": {
  "colab": {
   "authorship_tag": "ABX9TyOD2/gZgY69JdiiGJVNfu7s",
   "collapsed_sections": [],
   "name": "data_preprocessing_template.ipynb",
   "provenance": [],
   "toc_visible": true
  },
  "kernelspec": {
   "display_name": "Python 3 (ipykernel)",
   "language": "python",
   "name": "python3"
  },
  "language_info": {
   "codemirror_mode": {
    "name": "ipython",
    "version": 3
   },
   "file_extension": ".py",
   "mimetype": "text/x-python",
   "name": "python",
   "nbconvert_exporter": "python",
   "pygments_lexer": "ipython3",
   "version": "3.10.12"
  }
 },
 "nbformat": 4,
 "nbformat_minor": 4
}
