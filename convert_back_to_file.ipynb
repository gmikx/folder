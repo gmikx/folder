{
 "cells": [
  {
   "cell_type": "markdown",
   "metadata": {
    "colab_type": "text",
    "id": "WOw8yMd1VlnD"
   },
   "source": [
    "# Converting 0B file back to normal file"
   ]
  },
  {
   "cell_type": "markdown",
   "metadata": {
    "colab_type": "text",
    "id": "NvUGC8QQV6bV"
   },
   "source": [
    "## Import needed libraries"
   ]
  },
  {
   "cell_type": "code",
<<<<<<< HEAD
   "execution_count": 8,
=======
   "execution_count": 1,
>>>>>>> ab2d3165aebcc790d72ed46a160d6404fcab3a33
   "metadata": {
    "colab": {},
    "colab_type": "code",
    "id": "wfFEXZC0WS-V"
   },
   "outputs": [],
   "source": [
    "import os\n",
    "import base64\n",
    "import numpy as np"
   ]
  },
  {
   "cell_type": "markdown",
   "metadata": {},
   "source": [
    "## Get the right slash for your OS"
   ]
  },
  {
   "cell_type": "code",
<<<<<<< HEAD
   "execution_count": null,
   "metadata": {},
   "outputs": [],
=======
   "execution_count": 2,
   "metadata": {},
   "outputs": [],
   "source": [
    "if os.name == 'nt':\n",
    "    slash = '\\\\' # Windows\n",
    "else:\n",
    "    slash = '/'  # Linux and Mac"
   ]
  },
  {
   "cell_type": "markdown",
   "metadata": {},
   "source": [
    "## Make sure that you are in the correct directory"
   ]
  },
  {
   "cell_type": "code",
   "execution_count": 3,
   "metadata": {},
   "outputs": [
    {
     "data": {
      "text/plain": [
       "'/home/mikolaj/projects/python/folder'"
      ]
     },
     "execution_count": 3,
     "metadata": {},
     "output_type": "execute_result"
    }
   ],
>>>>>>> ab2d3165aebcc790d72ed46a160d6404fcab3a33
   "source": [
    "os.getcwd()"
   ]
  },
  {
   "cell_type": "markdown",
   "metadata": {
    "colab_type": "text",
    "id": "fhYaZ-ENV_c5"
   },
   "source": [
    "## Load folder names to a list"
   ]
  },
  {
   "cell_type": "code",
<<<<<<< HEAD
   "execution_count": 12,
=======
   "execution_count": 4,
>>>>>>> ab2d3165aebcc790d72ed46a160d6404fcab3a33
   "metadata": {
    "colab": {},
    "colab_type": "code",
    "id": "aqHTg9bxWT_u"
   },
   "outputs": [],
   "source": [
<<<<<<< HEAD
    "files = 'generated_cat'\n",
    "p = os.getcwd() + f\"/{files}\"\n",
=======
    "files = 'generated_HomeSweetHome'\n",
    "p = os.getcwd() + f\"{slash}{files}\"\n",
>>>>>>> ab2d3165aebcc790d72ed46a160d6404fcab3a33
    "extraction = []\n",
    "extension = ''\n",
    "i = 0\n",
    "\n",
    "for dirpath, dirnames, filenames in os.walk(p):     # reading names of whole folder structure\n",
    "    directory_level = dirpath.replace(p, \"\")\n",
    "    if i==0:\n",
    "        for num in range(len(dirnames)):\n",
    "            if '.' in dirnames[num]:\n",
    "                extension = dirnames[num]\n",
    "    else:\n",
    "        if (len(dirnames) != 0):\n",
    "            for j in dirnames:\n",
    "                if j[0:2]==\"['\":                                            \n",
    "                    j.replace(\"-\", \"+\")\n",
    "                    j.replace(\"_\", \"/\")\n",
    "                    extraction.append(j)\n",
    "    i = 1\n",
    "\n",
    "extraction.sort()\n",
    "index_of_content = extraction[0].rfind(\"]\")+1\n",
    "\n",
    "b64 = ''\n",
    "for i in extraction:\n",
    "    b64 += (i[index_of_content:])"
   ]
  },
  {
   "cell_type": "markdown",
   "metadata": {
    "colab_type": "text",
    "id": "3abSxRqvWEIB"
   },
   "source": [
    "## Decode bytes and write them to an output file"
   ]
  },
  {
   "cell_type": "code",
<<<<<<< HEAD
   "execution_count": 13,
=======
   "execution_count": 6,
>>>>>>> ab2d3165aebcc790d72ed46a160d6404fcab3a33
   "metadata": {},
   "outputs": [],
   "source": [
    "import re\n",
    "b64 = re.sub('-', '+', b64)                     # changing from folder-name-safe format to normal base64\n",
    "b64 = re.sub('_', '/', b64)\n",
    "\n",
    "bytes = base64.b64decode(b64)\n",
    "f = open(f\"{files[10:]}{extension}\", \"wb\")\n",
    "f.write(bytes)\n",
    "f.close()\n",
    "os.chdir(p)\n",
    "os.chdir(\"..\")"
   ]
  }
 ],
 "metadata": {
  "colab": {
   "authorship_tag": "ABX9TyOD2/gZgY69JdiiGJVNfu7s",
   "collapsed_sections": [],
   "name": "data_preprocessing_template.ipynb",
   "provenance": [],
   "toc_visible": true
  },
  "kernelspec": {
   "display_name": "Python 3 (ipykernel)",
   "language": "python",
   "name": "python3"
  },
  "language_info": {
   "codemirror_mode": {
    "name": "ipython",
    "version": 3
   },
   "file_extension": ".py",
   "mimetype": "text/x-python",
   "name": "python",
   "nbconvert_exporter": "python",
   "pygments_lexer": "ipython3",
   "version": "3.10.12"
  }
 },
 "nbformat": 4,
 "nbformat_minor": 4
}
